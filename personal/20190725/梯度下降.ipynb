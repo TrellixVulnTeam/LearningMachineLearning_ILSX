{
 "cells": [
  {
   "cell_type": "code",
   "execution_count": 1,
   "metadata": {},
   "outputs": [],
   "source": [
    "from sklearn import datasets\n",
    "from sklearn.model_selection import train_test_split\n",
    "import matplotlib.pyplot as plt\n",
    "import numpy as np\n",
    "import time\n",
    "%matplotlib inline"
   ]
  },
  {
   "cell_type": "code",
   "execution_count": 57,
   "metadata": {},
   "outputs": [
    {
     "name": "stdout",
     "output_type": "stream",
     "text": [
      "(250, 1)\n",
      "(250,)\n",
      "[[ 1.84926373]\n",
      " [-0.82643854]\n",
      " [ 0.94942081]\n",
      " [-1.10438334]\n",
      " [-1.00021535]]\n",
      "[49.16015959  4.72868339 76.76694682 27.2535895  53.8727809 ]\n",
      "----------------------------------\n",
      "(250, 1)\n",
      "[[49.16015959]\n",
      " [ 4.72868339]\n",
      " [76.76694682]\n",
      " [27.2535895 ]\n",
      " [53.8727809 ]]\n",
      "(175, 2)\n",
      "(175, 1)\n",
      "(175, 1)\n"
     ]
    }
   ],
   "source": [
    "# make data\n",
    "X,y = datasets.make_regression(n_samples=250, n_features=1, noise=20,random_state=0,bias=50)\n",
    "print(X.shape)\n",
    "print(y.shape)\n",
    "print(X[:5,])\n",
    "print(y[:5,])\n",
    "print('----------------------------------')\n",
    "y= y.reshape(-1,1) #这里的reshape至关重要,否则下面THETA在减去grad之后会被广播成(2,2)的格式\n",
    "print(y.shape)\n",
    "print(y[:5,])\n",
    "#将完整的数据集切割成训练集和测试集\n",
    "X_train,X_test,y_train,y_test = train_test_split(X,y,test_size=.3,random_state=0)\n",
    "#构造同样多行,1列的元素1矩阵\n",
    "o_train = np.ones([X_train.shape[0],1],dtype=X_train.dtype)\n",
    "o_test = np.ones([X_test.shape[0],1],dtype=X_test.dtype)\n",
    "# print(o_train.shape)\n",
    "# print(o_test.shape)\n",
    "#将1矩阵与原矩阵按列合并(axis=1,按列合并)\n",
    "X_train = np.concatenate((o_train,X_train),axis=1)\n",
    "X_test = np.concatenate((o_test,X_test),axis=1)\n",
    "print(X_train.shape)\n",
    "print(y_train.shape)\n",
    "print(y_train.shape)"
   ]
  },
  {
   "cell_type": "code",
   "execution_count": 58,
   "metadata": {},
   "outputs": [
    {
     "data": {
      "text/plain": [
       "<matplotlib.collections.PathCollection at 0x20caa0b5da0>"
      ]
     },
     "execution_count": 58,
     "metadata": {},
     "output_type": "execute_result"
    },
    {
     "data": {
      "image/png": "[encoded data removed]",
      "text/plain": [
       "<Figure size 720x504 with 1 Axes>"
      ]
     },
     "metadata": {
      "needs_background": "light"
     },
     "output_type": "display_data"
    }
   ],
   "source": [
    "#show data\n",
    "plt.figure(figsize=(10,7))\n",
    "plt.ylim((-25,125)) #设置坐标范围\n",
    "plt.xlim(-3,3)\n",
    "plt.scatter(X_test[:,1],y_test,c='red',edgecolors='white')\n",
    "plt.scatter(X_train[:,1],y_train,c='orange',edgecolors='white')\n",
    "\n"
   ]
  },
  {
   "cell_type": "code",
   "execution_count": 85,
   "metadata": {},
   "outputs": [
    {
     "name": "stdout",
     "output_type": "stream",
     "text": [
      "714.8322300762284\n",
      "652.9907917848402\n",
      "598.3817800661698\n",
      "550.3214413622329\n",
      "508.1860835712113\n",
      "471.4032833881205\n",
      "439.4442515142034\n",
      "411.81756296959264\n",
      "388.0644261340145\n",
      "367.7555619468082\n",
      "350.4896062322915\n",
      "335.89276985511\n",
      "323.6193438775554\n",
      "313.3525649302207\n",
      "304.8053795985539\n",
      "297.72075334832374\n",
      "291.87132246981463\n",
      "287.0583428503184\n",
      "283.1100128776624\n",
      "279.87932317046364\n",
      "277.24161383391015\n",
      "275.09201182474567\n",
      "273.342891434727\n",
      "271.921462868561\n",
      "270.76755648822257\n",
      "269.83163854384924\n",
      "269.07306998089916\n",
      "268.4586030832007\n",
      "267.9611001594687\n",
      "267.5584527564349\n",
      "267.23267758975555\n",
      "266.96916535779025\n",
      "266.7560599510347\n",
      "266.58374765362885\n",
      "266.444438323244\n",
      "266.3318229593668\n",
      "266.24079436736804\n",
      "266.1672197127621\n",
      "266.1077556021188\n",
      "266.059697919866\n",
      "梯度下降法找到的THETA [[47.04174538]\n",
      " [18.07717878]]\n",
      "解析计算出来的 [[47.72337045]\n",
      " [18.30513929]]\n"
     ]
    }
   ],
   "source": [
    "THETA = np.zeros([2,1],dtype=np.float32)\n",
    "#learning rate\n",
    "lr = 0.00012\n",
    "step =200\n",
    "for i in range(step):\n",
    "    #XTXw-XTy\n",
    "    grad = np.matmul(np.matmul(X_train.T,X_train),THETA) - np.matmul(X_train.T,y_train) \n",
    "    \n",
    "#     print(grad)\n",
    "#     print(\"第一次:\",THETA.shape)\n",
    "    THETA  = THETA - lr*grad\n",
    "#     print(\"第二次:\",THETA.shape)\n",
    "#     a = np.dot(X_train,THETA)\n",
    "#     print(X_train.shape)\n",
    "#     print(a.shape)\n",
    "    if i%5==0:\n",
    "        loss = np.sqrt(np.sum(  (np.dot(X_train,THETA)-y_train)**2))\n",
    "        print(loss)\n",
    "print('梯度下降法找到的THETA',THETA)\n",
    "theta_1 = np.dot(np.dot(np.linalg.inv(np.dot(X_train.T, X_train)), X_train.T), y_train)\n",
    "print('解析计算出来的',theta_1)\n",
    "    "
   ]
  },
  {
   "cell_type": "code",
   "execution_count": null,
   "metadata": {},
   "outputs": [],
   "source": [
    "\n",
    "    "
   ]
  },
  {
   "cell_type": "code",
   "execution_count": null,
   "metadata": {},
   "outputs": [],
   "source": []
  },
  {
   "cell_type": "code",
   "execution_count": null,
   "metadata": {},
   "outputs": [],
   "source": []
  },
  {
   "cell_type": "code",
   "execution_count": null,
   "metadata": {},
   "outputs": [],
   "source": []
  },
  {
   "cell_type": "code",
   "execution_count": null,
   "metadata": {},
   "outputs": [],
   "source": []
  },
  {
   "cell_type": "code",
   "execution_count": null,
   "metadata": {},
   "outputs": [],
   "source": []
  },
  {
   "cell_type": "code",
   "execution_count": null,
   "metadata": {},
   "outputs": [],
   "source": []
  }
 ],
 "metadata": {
  "kernelspec": {
   "display_name": "Python 3",
   "language": "python",
   "name": "python3"
  },
  "language_info": {
   "codemirror_mode": {
    "name": "ipython",
    "version": 3
   },
   "file_extension": ".py",
   "mimetype": "text/x-python",
   "name": "python",
   "nbconvert_exporter": "python",
   "pygments_lexer": "ipython3",
   "version": "3.7.3"
  }
 },
 "nbformat": 4,
 "nbformat_minor": 2
}
