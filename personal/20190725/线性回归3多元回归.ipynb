{
 "cells": [
  {
   "cell_type": "code",
   "execution_count": 1,
   "metadata": {},
   "outputs": [
    {
     "name": "stdout",
     "output_type": "stream",
     "text": [
      "(250, 5)\n",
      "(250,)\n"
     ]
    },
    {
     "data": {
      "text/plain": [
       "array([[ 1.        ,  0.88017891,  0.49383678, -1.57062341,  0.64331447,\n",
       "        -0.20690368],\n",
       "       [ 1.        ,  0.40234164,  0.72909056,  1.13940068,  0.12898291,\n",
       "        -1.23482582],\n",
       "       [ 1.        ,  0.87583276, -0.39522898, -0.08593077, -1.15942052,\n",
       "         0.19429294],\n",
       "       [ 1.        , -3.04614305, -0.47063766,  0.44539325, -0.21694957,\n",
       "        -0.392389  ],\n",
       "       [ 1.        , -0.66060859,  0.18949964,  1.26498333, -1.34841309,\n",
       "        -0.30078388]])"
      ]
     },
     "execution_count": 1,
     "metadata": {},
     "output_type": "execute_result"
    }
   ],
   "source": [
    "from sklearn import datasets\n",
    "from sklearn.model_selection import train_test_split\n",
    "import matplotlib.pyplot as plt\n",
    "import numpy as np\n",
    "import time\n",
    "%matplotlib inline\n",
    "# make data\n",
    "X,y = datasets.make_regression(n_samples=250, n_features=5, noise=6,random_state=0,bias=50)\n",
    "print(X.shape)\n",
    "print(y.shape)\n",
    "# plt.scatter(X,y)\n",
    "one_column = np.ones((X.shape[0],1))\n",
    "x_new = np.concatenate((one_column,X),axis=1)\n",
    "x_new[:5,]"
   ]
  },
  {
   "cell_type": "code",
   "execution_count": 2,
   "metadata": {},
   "outputs": [
    {
     "data": {
      "text/plain": [
       "array([49.65485552, 18.90152839, 64.02074123, 67.43039623, 10.1607723 ,\n",
       "       79.91124764])"
      ]
     },
     "execution_count": 2,
     "metadata": {},
     "output_type": "execute_result"
    }
   ],
   "source": [
    "#w=(ATA)^-1 * ATy  最小二乘估计\n",
    "W = np.dot(np.dot(np.linalg.inv(np.dot(x_new.T,x_new)),x_new.T),y)\n",
    "W"
   ]
  },
  {
   "cell_type": "code",
   "execution_count": 3,
   "metadata": {},
   "outputs": [],
   "source": [
    "#五维画不出来\n",
    "#y = b +wx   画出该直线  b =49.49184632   w=18.49003617 \n",
    "# x_0 = np.min(X)\n",
    "# x_1 = np.max(X)\n",
    "# y_0 = W[0]+W[1]*x_0\n",
    "# y_1 = W[0]+W[1]*x_1\n",
    "\n",
    "# plt.figure(figsize=(10,7))\n",
    "# plt.scatter(X,y,alpha=.3)\n",
    "# plt.plot([x_0,x_1],[y_0,y_1],c='r',alpha=.7)"
   ]
  },
  {
   "cell_type": "code",
   "execution_count": 4,
   "metadata": {},
   "outputs": [
    {
     "name": "stdout",
     "output_type": "stream",
     "text": [
      "[83.57367399 34.70177897 67.13797809 29.62509713 31.52773302]\n",
      "[-3.50802677 -2.70282288  1.0176809   0.09485246  2.55244758]\n"
     ]
    }
   ],
   "source": [
    "#导入线性模型\n",
    "from sklearn import linear_model\n",
    "#导入度量,衡量指标\n",
    "from sklearn import metrics\n",
    "model =linear_model.LinearRegression()\n",
    "#sklearn的线性回归模型会自动加上一列1元素\n",
    "model.fit(X,y)  #训练模型\n",
    "#预测\n",
    "y_hat = model.predict(X)\n",
    "print(y_hat[:5])\n",
    "print(y[:5]-y_hat[:5])"
   ]
  },
  {
   "cell_type": "code",
   "execution_count": 5,
   "metadata": {},
   "outputs": [
    {
     "name": "stdout",
     "output_type": "stream",
     "text": [
      "mse: 3.872253464599279\n",
      "rmse: 1.9678042241542422\n",
      "r2: 0.9884371809753468\n"
     ]
    }
   ],
   "source": [
    "#打印各项评价指标\n",
    "mse = metrics.mean_squared_error(y,y_hat)\n",
    "print('mse:',mse)\n",
    "rmse=np.sqrt(mse)\n",
    "print('rmse:',rmse)\n",
    "r2 = metrics.r2_score(y,y_hat)\n",
    "print('r2:',r2)"
   ]
  },
  {
   "cell_type": "code",
   "execution_count": null,
   "metadata": {},
   "outputs": [],
   "source": []
  },
  {
   "cell_type": "code",
   "execution_count": null,
   "metadata": {},
   "outputs": [],
   "source": []
  },
  {
   "cell_type": "code",
   "execution_count": null,
   "metadata": {},
   "outputs": [],
   "source": []
  }
 ],
 "metadata": {
  "kernelspec": {
   "display_name": "Python 3",
   "language": "python",
   "name": "python3"
  },
  "language_info": {
   "codemirror_mode": {
    "name": "ipython",
    "version": 3
   },
   "file_extension": ".py",
   "mimetype": "text/x-python",
   "name": "python",
   "nbconvert_exporter": "python",
   "pygments_lexer": "ipython3",
   "version": "3.7.3"
  }
 },
 "nbformat": 4,
 "nbformat_minor": 2
}
