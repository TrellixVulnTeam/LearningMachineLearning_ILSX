{
  "nbformat": 4,
  "nbformat_minor": 0,
  "metadata": {
    "colab": {
      "name": "朴素贝叶斯-薪资分类.ipynb",
      "version": "0.3.2",
      "provenance": [],
      "collapsed_sections": []
    },
    "language_info": {
      "codemirror_mode": {
        "name": "ipython",
        "version": 3
      },
      "file_extension": ".py",
      "mimetype": "text/x-python",
      "name": "python",
      "nbconvert_exporter": "python",
      "pygments_lexer": "ipython3",
      "version": "3.6.6"
    },
    "kernelspec": {
      "display_name": "Python 3",
      "language": "python",
      "name": "python3"
    }
  },
  "cells": [
    {
      "cell_type": "code",
      "metadata": {
        "id": "pq1iHG5gpySp",
        "colab_type": "code",
        "colab": {}
      },
      "source": [
        "import numpy as np\n",
        "import pandas as pd\n",
        "import matplotlib.pyplot as plt\n",
        "%matplotlib inline\n",
        "np.random.seed(37) # 使得每次运行得到的随机数都一样"
      ],
      "execution_count": 0,
      "outputs": []
    },
    {
      "cell_type": "code",
      "metadata": {
        "id": "fUQjaBicpySs",
        "colab_type": "code",
        "outputId": "945f242c-994c-49cb-ac9c-ba42bddb7d93",
        "colab": {
          "base_uri": "https://localhost:8080/",
          "height": 374
        }
      },
      "source": [
        "# 准备数据集\n",
        "dataset_path='https://archive.ics.uci.edu/ml/machine-learning-databases/adult/adult.data'\n",
        "df=pd.read_csv(dataset_path,header=None)\n",
        "print(df.info()) # 加载没有问题\n",
        "# 原数据集包含有32561个样本，每一个样本含有14个features, 一个label\n",
        "# print(df.head())\n",
        "raw_set=df.values"
      ],
      "execution_count": 0,
      "outputs": [
        {
          "output_type": "stream",
          "text": [
            "<class 'pandas.core.frame.DataFrame'>\n",
            "RangeIndex: 32561 entries, 0 to 32560\n",
            "Data columns (total 15 columns):\n",
            "0     32561 non-null int64\n",
            "1     32561 non-null object\n",
            "2     32561 non-null int64\n",
            "3     32561 non-null object\n",
            "4     32561 non-null int64\n",
            "5     32561 non-null object\n",
            "6     32561 non-null object\n",
            "7     32561 non-null object\n",
            "8     32561 non-null object\n",
            "9     32561 non-null object\n",
            "10    32561 non-null int64\n",
            "11    32561 non-null int64\n",
            "12    32561 non-null int64\n",
            "13    32561 non-null object\n",
            "14    32561 non-null object\n",
            "dtypes: int64(6), object(9)\n",
            "memory usage: 3.7+ MB\n",
            "None\n"
          ],
          "name": "stdout"
        }
      ]
    },
    {
      "cell_type": "code",
      "metadata": {
        "id": "zIDk25LapySw",
        "colab_type": "code",
        "outputId": "e4498cb1-baf5-4741-ac63-474de44a371d",
        "colab": {
          "base_uri": "https://localhost:8080/",
          "height": 1000
        }
      },
      "source": [
        "# 打印数据集各列的基本信息\n",
        "def print_col_info(dataset):\n",
        "    '''print info of every column in dataset:\n",
        "    detailed info includes:\n",
        "    1, values\n",
        "    2, value type num'''\n",
        "    col_num=dataset.shape[1]\n",
        "    for i in range(col_num):\n",
        "        print('\\ncol-{} info: '.format(i))\n",
        "        temp=np.sort(list(set(dataset[:,i])))\n",
        "        print('values: {}'.format(temp))\n",
        "        print('values num: {}'.format(temp.shape[0]))\n",
        "\n",
        "print_col_info(raw_set)"
      ],
      "execution_count": 0,
      "outputs": [
        {
          "output_type": "stream",
          "text": [
            "\n",
            "col-0 info: \n",
            "values: [17 18 19 20 21 22 23 24 25 26 27 28 29 30 31 32 33 34 35 36 37 38 39 40\n",
            " 41 42 43 44 45 46 47 48 49 50 51 52 53 54 55 56 57 58 59 60 61 62 63 64\n",
            " 65 66 67 68 69 70 71 72 73 74 75 76 77 78 79 80 81 82 83 84 85 86 87 88\n",
            " 90]\n",
            "values num: 73\n",
            "\n",
            "col-1 info: \n",
            "values: [' ?' ' Federal-gov' ' Local-gov' ' Never-worked' ' Private'\n",
            " ' Self-emp-inc' ' Self-emp-not-inc' ' State-gov' ' Without-pay']\n",
            "values num: 9\n",
            "\n",
            "col-2 info: \n",
            "values: [  12285   13769   14878 ... 1366120 1455435 1484705]\n",
            "values num: 21648\n",
            "\n",
            "col-3 info: \n",
            "values: [' 10th' ' 11th' ' 12th' ' 1st-4th' ' 5th-6th' ' 7th-8th' ' 9th'\n",
            " ' Assoc-acdm' ' Assoc-voc' ' Bachelors' ' Doctorate' ' HS-grad'\n",
            " ' Masters' ' Preschool' ' Prof-school' ' Some-college']\n",
            "values num: 16\n",
            "\n",
            "col-4 info: \n",
            "values: [ 1  2  3  4  5  6  7  8  9 10 11 12 13 14 15 16]\n",
            "values num: 16\n",
            "\n",
            "col-5 info: \n",
            "values: [' Divorced' ' Married-AF-spouse' ' Married-civ-spouse'\n",
            " ' Married-spouse-absent' ' Never-married' ' Separated' ' Widowed']\n",
            "values num: 7\n",
            "\n",
            "col-6 info: \n",
            "values: [' ?' ' Adm-clerical' ' Armed-Forces' ' Craft-repair' ' Exec-managerial'\n",
            " ' Farming-fishing' ' Handlers-cleaners' ' Machine-op-inspct'\n",
            " ' Other-service' ' Priv-house-serv' ' Prof-specialty' ' Protective-serv'\n",
            " ' Sales' ' Tech-support' ' Transport-moving']\n",
            "values num: 15\n",
            "\n",
            "col-7 info: \n",
            "values: [' Husband' ' Not-in-family' ' Other-relative' ' Own-child' ' Unmarried'\n",
            " ' Wife']\n",
            "values num: 6\n",
            "\n",
            "col-8 info: \n",
            "values: [' Amer-Indian-Eskimo' ' Asian-Pac-Islander' ' Black' ' Other' ' White']\n",
            "values num: 5\n",
            "\n",
            "col-9 info: \n",
            "values: [' Female' ' Male']\n",
            "values num: 2\n",
            "\n",
            "col-10 info: \n",
            "values: [    0   114   401   594   914   991  1055  1086  1111  1151  1173  1409\n",
            "  1424  1455  1471  1506  1639  1797  1831  1848  2009  2036  2050  2062\n",
            "  2105  2174  2176  2202  2228  2290  2329  2346  2354  2387  2407  2414\n",
            "  2463  2538  2580  2597  2635  2653  2829  2885  2907  2936  2961  2964\n",
            "  2977  2993  3103  3137  3273  3325  3411  3418  3432  3456  3464  3471\n",
            "  3674  3781  3818  3887  3908  3942  4064  4101  4386  4416  4508  4650\n",
            "  4687  4787  4865  4931  4934  5013  5060  5178  5455  5556  5721  6097\n",
            "  6360  6418  6497  6514  6723  6767  6849  7298  7430  7443  7688  7896\n",
            "  7978  8614  9386  9562 10520 10566 10605 11678 13550 14084 14344 15020\n",
            " 15024 15831 18481 20051 22040 25124 25236 27828 34095 41310 99999]\n",
            "values num: 119\n",
            "\n",
            "col-11 info: \n",
            "values: [   0  155  213  323  419  625  653  810  880  974 1092 1138 1258 1340\n",
            " 1380 1408 1411 1485 1504 1539 1564 1573 1579 1590 1594 1602 1617 1628\n",
            " 1648 1651 1668 1669 1672 1719 1721 1726 1735 1740 1741 1755 1762 1816\n",
            " 1825 1844 1848 1876 1887 1902 1944 1974 1977 1980 2001 2002 2042 2051\n",
            " 2057 2080 2129 2149 2163 2174 2179 2201 2205 2206 2231 2238 2246 2258\n",
            " 2267 2282 2339 2352 2377 2392 2415 2444 2457 2467 2472 2489 2547 2559\n",
            " 2603 2754 2824 3004 3683 3770 3900 4356]\n",
            "values num: 92\n",
            "\n",
            "col-12 info: \n",
            "values: [ 1  2  3  4  5  6  7  8  9 10 11 12 13 14 15 16 17 18 19 20 21 22 23 24\n",
            " 25 26 27 28 29 30 31 32 33 34 35 36 37 38 39 40 41 42 43 44 45 46 47 48\n",
            " 49 50 51 52 53 54 55 56 57 58 59 60 61 62 63 64 65 66 67 68 70 72 73 74\n",
            " 75 76 77 78 80 81 82 84 85 86 87 88 89 90 91 92 94 95 96 97 98 99]\n",
            "values num: 94\n",
            "\n",
            "col-13 info: \n",
            "values: [' ?' ' Cambodia' ' Canada' ' China' ' Columbia' ' Cuba'\n",
            " ' Dominican-Republic' ' Ecuador' ' El-Salvador' ' England' ' France'\n",
            " ' Germany' ' Greece' ' Guatemala' ' Haiti' ' Holand-Netherlands'\n",
            " ' Honduras' ' Hong' ' Hungary' ' India' ' Iran' ' Ireland' ' Italy'\n",
            " ' Jamaica' ' Japan' ' Laos' ' Mexico' ' Nicaragua'\n",
            " ' Outlying-US(Guam-USVI-etc)' ' Peru' ' Philippines' ' Poland'\n",
            " ' Portugal' ' Puerto-Rico' ' Scotland' ' South' ' Taiwan' ' Thailand'\n",
            " ' Trinadad&Tobago' ' United-States' ' Vietnam' ' Yugoslavia']\n",
            "values num: 42\n",
            "\n",
            "col-14 info: \n",
            "values: [' <=50K' ' >50K']\n",
            "values num: 2\n"
          ],
          "name": "stdout"
        }
      ]
    },
    {
      "cell_type": "code",
      "metadata": {
        "id": "moHbjuhdpySy",
        "colab_type": "code",
        "colab": {}
      },
      "source": [
        "# 数据处理一：去除字符串数值前面的空格\n",
        "str_cols=[1,3,5,6,7,8,9,13,14]\n",
        "for col in str_cols:\n",
        "    df.iloc[:,col]=df.iloc[:,col].map(lambda x: x.strip())\n",
        "\n",
        "# print_col_info(df.values) # 检查发现所有的字符串列都已经掉了空格"
      ],
      "execution_count": 0,
      "outputs": []
    },
    {
      "cell_type": "code",
      "metadata": {
        "id": "QR0D2xKepyS0",
        "colab_type": "code",
        "colab": {}
      },
      "source": [
        "# 数据处理二： 删除缺失值样本\n",
        "# 将?字符串替换为NaN缺失值标志\n",
        "df.replace(\"?\",np.nan,inplace=True)\n",
        "# 此处直接删除缺失值样本\n",
        "df.dropna(inplace=True)\n",
        "# print(df2.shape) # (30162, 15)"
      ],
      "execution_count": 0,
      "outputs": []
    },
    {
      "cell_type": "code",
      "metadata": {
        "id": "E9ORCg7ZpyS2",
        "colab_type": "code",
        "outputId": "68c2e2c3-7989-49ae-b89d-c8f6dd52191e",
        "colab": {
          "base_uri": "https://localhost:8080/",
          "height": 1000
        }
      },
      "source": [
        "# 数据处理三：对字符数据进行编码\n",
        "from sklearn import preprocessing\n",
        "label_encoder=[] # 放置每一列的encoder\n",
        "encoded_set = np.empty(df.shape)\n",
        "for col in range(df.shape[1]):\n",
        "    encoder=None\n",
        "    if df.iloc[:,col].dtype==object: # 字符型数据\n",
        "        encoder=preprocessing.LabelEncoder()\n",
        "        encoded_set[:,col]=encoder.fit_transform(df.iloc[:,col])\n",
        "    else:  # 数值型数据\n",
        "        encoded_set[:,col]=df.iloc[:,col]\n",
        "    label_encoder.append(encoder)\n",
        "\n",
        "print_col_info(encoded_set) # 全都是数字，没有问题"
      ],
      "execution_count": 0,
      "outputs": [
        {
          "output_type": "stream",
          "text": [
            "\n",
            "col-0 info: \n",
            "values: [17. 18. 19. 20. 21. 22. 23. 24. 25. 26. 27. 28. 29. 30. 31. 32. 33. 34.\n",
            " 35. 36. 37. 38. 39. 40. 41. 42. 43. 44. 45. 46. 47. 48. 49. 50. 51. 52.\n",
            " 53. 54. 55. 56. 57. 58. 59. 60. 61. 62. 63. 64. 65. 66. 67. 68. 69. 70.\n",
            " 71. 72. 73. 74. 75. 76. 77. 78. 79. 80. 81. 82. 83. 84. 85. 86. 88. 90.]\n",
            "values num: 72\n",
            "\n",
            "col-1 info: \n",
            "values: [0. 1. 2. 3. 4. 5. 6.]\n",
            "values num: 7\n",
            "\n",
            "col-2 info: \n",
            "values: [  13769.   14878.   18827. ... 1366120. 1455435. 1484705.]\n",
            "values num: 20263\n",
            "\n",
            "col-3 info: \n",
            "values: [ 0.  1.  2.  3.  4.  5.  6.  7.  8.  9. 10. 11. 12. 13. 14. 15.]\n",
            "values num: 16\n",
            "\n",
            "col-4 info: \n",
            "values: [ 1.  2.  3.  4.  5.  6.  7.  8.  9. 10. 11. 12. 13. 14. 15. 16.]\n",
            "values num: 16\n",
            "\n",
            "col-5 info: \n",
            "values: [0. 1. 2. 3. 4. 5. 6.]\n",
            "values num: 7\n",
            "\n",
            "col-6 info: \n",
            "values: [ 0.  1.  2.  3.  4.  5.  6.  7.  8.  9. 10. 11. 12. 13.]\n",
            "values num: 14\n",
            "\n",
            "col-7 info: \n",
            "values: [0. 1. 2. 3. 4. 5.]\n",
            "values num: 6\n",
            "\n",
            "col-8 info: \n",
            "values: [0. 1. 2. 3. 4.]\n",
            "values num: 5\n",
            "\n",
            "col-9 info: \n",
            "values: [0. 1.]\n",
            "values num: 2\n",
            "\n",
            "col-10 info: \n",
            "values: [    0.   114.   401.   594.   914.   991.  1055.  1086.  1151.  1173.\n",
            "  1409.  1424.  1455.  1471.  1506.  1639.  1797.  1831.  1848.  2009.\n",
            "  2036.  2050.  2062.  2105.  2174.  2176.  2202.  2228.  2290.  2329.\n",
            "  2346.  2354.  2387.  2407.  2414.  2463.  2538.  2580.  2597.  2635.\n",
            "  2653.  2829.  2885.  2907.  2936.  2961.  2964.  2977.  2993.  3103.\n",
            "  3137.  3273.  3325.  3411.  3418.  3432.  3456.  3464.  3471.  3674.\n",
            "  3781.  3818.  3887.  3908.  3942.  4064.  4101.  4386.  4416.  4508.\n",
            "  4650.  4687.  4787.  4865.  4931.  4934.  5013.  5060.  5178.  5455.\n",
            "  5556.  5721.  6097.  6360.  6418.  6497.  6514.  6723.  6767.  6849.\n",
            "  7298.  7430.  7443.  7688.  7896.  7978.  8614.  9386.  9562. 10520.\n",
            " 10566. 10605. 11678. 13550. 14084. 14344. 15020. 15024. 15831. 18481.\n",
            " 20051. 22040. 25124. 25236. 27828. 34095. 41310. 99999.]\n",
            "values num: 118\n",
            "\n",
            "col-11 info: \n",
            "values: [   0.  155.  213.  323.  419.  625.  653.  810.  880.  974. 1092. 1138.\n",
            " 1258. 1340. 1380. 1408. 1411. 1485. 1504. 1539. 1564. 1573. 1579. 1590.\n",
            " 1594. 1602. 1617. 1628. 1648. 1651. 1668. 1669. 1672. 1719. 1721. 1726.\n",
            " 1735. 1740. 1741. 1755. 1762. 1816. 1825. 1844. 1848. 1876. 1887. 1902.\n",
            " 1944. 1974. 1977. 1980. 2001. 2002. 2042. 2051. 2057. 2080. 2129. 2149.\n",
            " 2174. 2179. 2201. 2205. 2206. 2231. 2238. 2246. 2258. 2267. 2282. 2339.\n",
            " 2352. 2377. 2392. 2415. 2444. 2457. 2467. 2472. 2547. 2559. 2603. 2754.\n",
            " 2824. 3004. 3683. 3770. 3900. 4356.]\n",
            "values num: 90\n",
            "\n",
            "col-12 info: \n",
            "values: [ 1.  2.  3.  4.  5.  6.  7.  8.  9. 10. 11. 12. 13. 14. 15. 16. 17. 18.\n",
            " 19. 20. 21. 22. 23. 24. 25. 26. 27. 28. 29. 30. 31. 32. 33. 34. 35. 36.\n",
            " 37. 38. 39. 40. 41. 42. 43. 44. 45. 46. 47. 48. 49. 50. 51. 52. 53. 54.\n",
            " 55. 56. 57. 58. 59. 60. 61. 62. 63. 64. 65. 66. 67. 68. 70. 72. 73. 74.\n",
            " 75. 76. 77. 78. 80. 81. 82. 84. 85. 86. 87. 88. 89. 90. 91. 92. 94. 95.\n",
            " 96. 97. 98. 99.]\n",
            "values num: 94\n",
            "\n",
            "col-13 info: \n",
            "values: [ 0.  1.  2.  3.  4.  5.  6.  7.  8.  9. 10. 11. 12. 13. 14. 15. 16. 17.\n",
            " 18. 19. 20. 21. 22. 23. 24. 25. 26. 27. 28. 29. 30. 31. 32. 33. 34. 35.\n",
            " 36. 37. 38. 39. 40.]\n",
            "values num: 41\n",
            "\n",
            "col-14 info: \n",
            "values: [0. 1.]\n",
            "values num: 2\n"
          ],
          "name": "stdout"
        }
      ]
    },
    {
      "cell_type": "code",
      "metadata": {
        "id": "Uf_O_5LOpyS4",
        "colab_type": "code",
        "colab": {}
      },
      "source": [
        "# 数据处理四：对某些列进行范围缩放\n",
        "# print(encoded_set.dtype) # float64 没问题\n",
        "\n",
        "cols=[2,10,11]\n",
        "data_scalers=[] # 专门用来放置scaler\n",
        "for col in cols:\n",
        "    data_scaler=preprocessing.MinMaxScaler(feature_range=(-1,1)) \n",
        "    encoded_set[:,col]=np.ravel(data_scaler.fit_transform(encoded_set[:,col].reshape(-1,1)))\n",
        "    data_scalers.append(data_scaler)\n",
        "    \n",
        "# print_col_info(encoded_set) # 已经发生了改变，没问题"
      ],
      "execution_count": 0,
      "outputs": []
    },
    {
      "cell_type": "code",
      "metadata": {
        "id": "2d2AvPywpyS5",
        "colab_type": "code",
        "colab": {}
      },
      "source": [
        "dataset_X,dataset_y=encoded_set[:,:-1],encoded_set[:,-1]\n",
        "# 数据处理五：拆分数据集为train set和test set\n",
        "from sklearn.model_selection import train_test_split\n",
        "train_X, test_X, train_y, test_y=train_test_split(dataset_X,dataset_y,\n",
        "                                                  test_size=0.3,random_state=42)\n",
        "\n",
        "# print(dataset_X.shape) # (30162, 14)\n",
        "# print(dataset_y.shape) # (30162,)\n",
        "# print(train_X.shape) # (21113, 14)\n",
        "# print(train_y.shape) # (21113,)\n",
        "# print(test_X.shape) # (9049, 14)"
      ],
      "execution_count": 0,
      "outputs": []
    },
    {
      "cell_type": "code",
      "metadata": {
        "id": "7IXoNTOIpyS7",
        "colab_type": "code",
        "outputId": "7280151a-8a2c-4f81-a66f-103f0eedf58a",
        "colab": {
          "base_uri": "https://localhost:8080/",
          "height": 272
        }
      },
      "source": [
        "# 建立朴素贝叶斯分类器模型\n",
        "from sklearn.naive_bayes import GaussianNB\n",
        "gaussianNB=GaussianNB()\n",
        "gaussianNB.fit(train_X,train_y)\n",
        "\n",
        "# 2 用交叉验证来检验模型的准确性，只是在test set上验证准确性\n",
        "from sklearn.model_selection import cross_val_score\n",
        "num_validations=5\n",
        "accuracy=cross_val_score(gaussianNB,test_X,test_y,\n",
        "                         scoring='accuracy',cv=num_validations)\n",
        "print('准确率：{:.2f}%'.format(accuracy.mean()*100))\n",
        "precision=cross_val_score(gaussianNB,test_X,test_y,\n",
        "                         scoring='precision_weighted',cv=num_validations)\n",
        "print('精确度：{:.2f}%'.format(precision.mean()*100))\n",
        "recall=cross_val_score(gaussianNB,test_X,test_y,\n",
        "                         scoring='recall_weighted',cv=num_validations)\n",
        "print('召回率：{:.2f}%'.format(recall.mean()*100))\n",
        "f1=cross_val_score(gaussianNB,test_X,test_y,\n",
        "                         scoring='f1_weighted',cv=num_validations)\n",
        "print('F1  值：{:.2f}%'.format(f1.mean()*100))\n",
        "                   \n",
        "# 3 打印性能报告\n",
        "from sklearn.metrics import confusion_matrix\n",
        "y_pred=gaussianNB.predict(test_X)\n",
        "confusion_mat = confusion_matrix(test_y, y_pred)\n",
        "print(confusion_mat) #看看混淆矩阵长啥样\n",
        "\n",
        "from sklearn.metrics import classification_report\n",
        "# 直接使用sklearn打印精度，召回率和F1值\n",
        "target_names = ['<=50K', '>50K']\n",
        "print(classification_report(test_y, y_pred, target_names=target_names))"
      ],
      "execution_count": 0,
      "outputs": [
        {
          "output_type": "stream",
          "text": [
            "准确率：79.84%\n",
            "精确度：78.45%\n",
            "召回率：79.84%\n",
            "F1  值：77.21%\n",
            "[[6420  347]\n",
            " [1518  764]]\n",
            "              precision    recall  f1-score   support\n",
            "\n",
            "       <=50K       0.81      0.95      0.87      6767\n",
            "        >50K       0.69      0.33      0.45      2282\n",
            "\n",
            "    accuracy                           0.79      9049\n",
            "   macro avg       0.75      0.64      0.66      9049\n",
            "weighted avg       0.78      0.79      0.77      9049\n",
            "\n"
          ],
          "name": "stdout"
        }
      ]
    },
    {
      "cell_type": "code",
      "metadata": {
        "id": "kDYQWp_lrWUW",
        "colab_type": "code",
        "colab": {}
      },
      "source": [
        ""
      ],
      "execution_count": 0,
      "outputs": []
    }
  ]
}