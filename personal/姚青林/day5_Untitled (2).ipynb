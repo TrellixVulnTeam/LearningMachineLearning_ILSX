{
  "nbformat": 4,
  "nbformat_minor": 0,
  "metadata": {
    "colab": {
      "name": "逻辑回归+随机梯度下降法.ipynb",
      "version": "0.3.2",
      "provenance": [],
      "collapsed_sections": []
    },
    "kernelspec": {
      "name": "python3",
      "display_name": "Python 3"
    }
  },
  "cells": [
    {
      "cell_type": "code",
      "metadata": {
        "id": "8btqzWfAM2LQ",
        "colab_type": "code",
        "outputId": "73371fdd-7525-4e44-f78e-f0d30a493714",
        "colab": {
          "base_uri": "https://localhost:8080/",
          "height": 337
        }
      },
      "source": [
        "from sklearn.datasets.samples_generator import make_blobs\n",
        "from sklearn.model_selection import train_test_split\n",
        "import matplotlib.pyplot as plt \n",
        "import numpy as np\n",
        "from math import exp, log \n",
        "\n",
        "## Hyper-paramters definition\n",
        "LR = 0.075\n",
        "EPOCH = 10\n",
        "THETA = np.random.normal(0, 0.1, 3).reshape(3, 1) # learnable parameters\n",
        "\n",
        "## First step: Generating dummy two categories of data.\n",
        "# 1. data(300)\n",
        "X, Y = make_blobs(n_samples=300, centers=2, n_features=2, random_state=3)\n",
        "# show data distribution\n",
        "# plt.scatter(X[:,0], X[:, 1], c=Y, edgecolors='white', marker='s')\n",
        "# plt.show()\n",
        "\n",
        "# 2. split into train/val set\n",
        "X_train, X_test, Y_train, Y_test = train_test_split(X, Y, test_size=0.3, random_state=0)\n",
        "plt.scatter(X_train[:,0], X_train[:, 1], c=Y_train, edgecolors='white', marker='s')\n",
        "plt.show()\n",
        "# for theta0, x0 = 1\n",
        "o_train = np.ones([X_train.shape[0], 1], dtype=X_train.dtype)\n",
        "o_test = np.ones([X_test.shape[0], 1], dtype=X_test.dtype)\n",
        "X_train = np.concatenate((o_train, X_train), axis=1)\n",
        "X_test = np.concatenate((o_test, X_test), axis=1)\n",
        "print(\"X_train shape : {0}\".format(X_train.shape))\n",
        "print(\"Y_train shape : {0}\".format(Y_train.shape))\n",
        "print(\"X_test shape : {0}\".format(X_test.shape))\n",
        "print(\"y_test shape : {0}\".format(Y_test.shape))"
      ],
      "execution_count": 0,
      "outputs": [
        {
          "output_type": "display_data",
          "data": {
            "image/png": "[encoded data removed]",
            "text/plain": [
              "<Figure size 432x288 with 1 Axes>"
            ]
          },
          "metadata": {
            "tags": []
          }
        },
        {
          "output_type": "stream",
          "text": [
            "X_train shape : (210, 3)\n",
            "Y_train shape : (210,)\n",
            "X_test shape : (90, 3)\n",
            "y_test shape : (90,)\n"
          ],
          "name": "stdout"
        }
      ]
    },
    {
      "cell_type": "code",
      "metadata": {
        "id": "EWks5lwmM6Dx",
        "colab_type": "code",
        "colab": {}
      },
      "source": [
        "H_train = np.zeros([Y_train.shape[0], 1])\n",
        "H_test = np.zeros([Y_test.shape[0], 1])"
      ],
      "execution_count": 0,
      "outputs": []
    },
    {
      "cell_type": "code",
      "metadata": {
        "id": "sbVeTaQaNZDt",
        "colab_type": "code",
        "colab": {}
      },
      "source": [
        "def sigmoid_function(z):\n",
        "\t\n",
        "  g = 1 / (1 + exp(-z))\n",
        "\n",
        "  return g\n",
        "\n",
        "def hypothesis(x, THETA):\n",
        "\t\n",
        "\thypothesis = np.matmul(THETA.T, x)\n",
        "\thypothesis = sigmoid_function(hypothesis[0])\n",
        "\n",
        "\treturn hypothesis"
      ],
      "execution_count": 0,
      "outputs": []
    },
    {
      "cell_type": "code",
      "metadata": {
        "id": "XawQ85wCNnk3",
        "colab_type": "code",
        "colab": {}
      },
      "source": [
        "def compute_loss(X, Y, THETA):\n",
        "\t\n",
        "\tloss = 0\n",
        "\tfor x, y in zip(X, Y):\n",
        "\t\th_x = hypothesis(x, THETA)\n",
        "\t\t# if h_x == 1 --> log(1-1) --> error\n",
        "\t\tif h_x == 1:\n",
        "\t\t\th_x = 1-0.0000000000001\n",
        "\t\tloss += (-y) *(log(h_x) - (1-y) *log(1-h_x))\n",
        "\n",
        "\treturn loss/(X.shape[0])"
      ],
      "execution_count": 0,
      "outputs": []
    },
    {
      "cell_type": "code",
      "metadata": {
        "id": "_T_7nsyWOFKk",
        "colab_type": "code",
        "colab": {}
      },
      "source": [
        "def update_parameters(THETA, LR, y, h_x, x):\n",
        "\t\n",
        "\tx = np.reshape(x, THETA.shape)\n",
        "\tTHETA = THETA + LR *(y - h_x) * x\n",
        "\n",
        "\treturn THETA"
      ],
      "execution_count": 0,
      "outputs": []
    },
    {
      "cell_type": "code",
      "metadata": {
        "id": "f_n3gQbWOHIk",
        "colab_type": "code",
        "outputId": "09f91ac4-2b2f-418f-98af-a542c9ac211a",
        "colab": {
          "base_uri": "https://localhost:8080/",
          "height": 1986
        }
      },
      "source": [
        "plt.figure(0)\n",
        "for epoch in range(EPOCH):\n",
        "  for x, y in zip(X_train, Y_train):\n",
        "    loss = compute_loss(X_train, Y_train, THETA)\n",
        "    y_result = hypothesis(x, THETA)\n",
        "    THETA = update_parameters(THETA, LR, y, y_result, x)\n",
        "  print('[{0}/{1}] loss is: {2}'.format(epoch+1, EPOCH, loss))\n",
        "\n",
        "## TEST \n",
        "i = 0\n",
        "for x, y in zip(X_test, Y_test):\n",
        "  H_test[i] = hypothesis(x, THETA)\n",
        "  i+=1\n",
        "\n",
        "plt.figure(1)\n",
        "x = np.linspace(-7, 4, 50)\n",
        "\n",
        "# 等值线是 w1 * x + w2 * y + b = 0\n",
        "x_0 = -6\n",
        "x_1 = 4\n",
        "y_0 = -(THETA[2, 0] * x_0 + THETA[0, 0]) / THETA[1, 0]\n",
        "y_1 = -(THETA[2, 0] * x_1 + THETA[0, 0]) / THETA[1, 0]\n",
        "\n",
        "plt.plot([x_0, x_1], [y_0, y_1])\n",
        "\n",
        "plt.scatter(X_test[:, 1], X_test[:, 2], c=H_test[:, 0], edgecolors='white', marker='s')\n",
        "plt.show()"
      ],
      "execution_count": 0,
      "outputs": [
        {
          "output_type": "stream",
          "text": [
            "[1/10] loss is: 0.007881890583633366\n",
            "[2/10] loss is: 0.005073498740212336\n",
            "[3/10] loss is: 0.004017075563368587\n",
            "[4/10] loss is: 0.003445200435395991\n",
            "[5/10] loss is: 0.003080562489953772\n",
            "[6/10] loss is: 0.002824933032766669\n",
            "[7/10] loss is: 0.0026342132705544133\n",
            "[8/10] loss is: 0.002485506937013949\n",
            "[9/10] loss is: 0.0023656820861445247\n",
            "[10/10] loss is: 0.002266637842668788\n",
            "[[9.99637749e-01]\n",
            " [9.99871759e-01]\n",
            " [9.99997797e-01]\n",
            " [9.99803952e-01]\n",
            " [9.99949452e-01]\n",
            " [8.37096654e-05]\n",
            " [6.81711420e-04]\n",
            " [5.76026911e-04]\n",
            " [9.98965631e-01]\n",
            " [9.99157646e-01]\n",
            " [9.99975591e-01]\n",
            " [6.86501404e-08]\n",
            " [4.51530235e-02]\n",
            " [9.98684745e-01]\n",
            " [9.99980039e-01]\n",
            " [1.52521494e-04]\n",
            " [9.99995278e-01]\n",
            " [6.70707976e-03]\n",
            " [1.50441872e-04]\n",
            " [1.96094839e-06]\n",
            " [9.97374746e-01]\n",
            " [6.65575548e-05]\n",
            " [9.91784766e-01]\n",
            " [9.99640624e-01]\n",
            " [7.77395141e-04]\n",
            " [9.99998931e-01]\n",
            " [1.37421630e-05]\n",
            " [1.69289277e-04]\n",
            " [9.99055938e-01]\n",
            " [9.99997071e-01]\n",
            " [5.22661658e-04]\n",
            " [9.99998971e-01]\n",
            " [9.23208494e-05]\n",
            " [9.76522879e-01]\n",
            " [2.88112458e-03]\n",
            " [9.99948519e-01]\n",
            " [9.99967527e-01]\n",
            " [9.99998640e-01]\n",
            " [1.73172648e-07]\n",
            " [1.47139852e-06]\n",
            " [9.97067378e-01]\n",
            " [3.82028881e-03]\n",
            " [1.08141382e-06]\n",
            " [1.57772265e-05]\n",
            " [9.44446585e-04]\n",
            " [5.45902981e-06]\n",
            " [9.99713128e-01]\n",
            " [9.99145897e-01]\n",
            " [7.20800078e-03]\n",
            " [1.09479081e-03]\n",
            " [7.92291282e-02]\n",
            " [6.30292171e-06]\n",
            " [9.99999138e-01]\n",
            " [6.93005488e-04]\n",
            " [3.80955000e-04]\n",
            " [2.41481170e-05]\n",
            " [9.99564743e-01]\n",
            " [1.48635011e-03]\n",
            " [2.06247624e-05]\n",
            " [9.99992862e-01]\n",
            " [9.99940602e-01]\n",
            " [9.99999315e-01]\n",
            " [2.90934091e-04]\n",
            " [9.99990927e-01]\n",
            " [2.37365646e-03]\n",
            " [1.63427798e-05]\n",
            " [9.99817850e-01]\n",
            " [1.53008940e-03]\n",
            " [9.99848376e-01]\n",
            " [9.99996751e-01]\n",
            " [3.90815982e-07]\n",
            " [9.99997791e-01]\n",
            " [9.99997008e-01]\n",
            " [9.99986371e-01]\n",
            " [4.04579849e-04]\n",
            " [1.12904672e-05]\n",
            " [3.74675052e-03]\n",
            " [9.99972005e-01]\n",
            " [4.92387165e-04]\n",
            " [9.99978866e-01]\n",
            " [5.13572396e-06]\n",
            " [9.97493830e-01]\n",
            " [2.60862078e-05]\n",
            " [1.44549139e-05]\n",
            " [2.00542666e-05]\n",
            " [9.99987035e-01]\n",
            " [9.94700839e-01]\n",
            " [9.99991895e-01]\n",
            " [1.81173028e-05]\n",
            " [9.99987518e-01]]\n"
          ],
          "name": "stdout"
        },
        {
          "output_type": "display_data",
          "data": {
            "text/plain": [
              "<Figure size 432x288 with 0 Axes>"
            ]
          },
          "metadata": {
            "tags": []
          }
        },
        {
          "output_type": "display_data",
          "data": {
            "image/png": "[encoded data removed]",
            "text/plain": [
              "<Figure size 432x288 with 1 Axes>"
            ]
          },
          "metadata": {
            "tags": []
          }
        }
      ]
    },
    {
      "cell_type": "code",
      "metadata": {
        "id": "yzkEDxF6OKgx",
        "colab_type": "code",
        "colab": {}
      },
      "source": [
        ""
      ],
      "execution_count": 0,
      "outputs": []
    }
  ]
}