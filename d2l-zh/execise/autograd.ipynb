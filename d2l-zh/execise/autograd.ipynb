{
 "cells": [
  {
   "cell_type": "code",
   "execution_count": 36,
   "metadata": {},
   "outputs": [],
   "source": [
    "from mxnet import ndarray as nd\n",
    "from mxnet import autograd\n",
    "import mxnet as mx"
   ]
  },
  {
   "cell_type": "code",
   "execution_count": 37,
   "metadata": {},
   "outputs": [],
   "source": [
    "num_inputs = 2\n",
    "num_examples = 1000\n",
    "\n",
    "true_w = [2,-3.4]\n",
    "true_b = 4.2\n",
    "\n",
    "x = nd.random_normal(shape = (num_examples, num_inputs))\n",
    "y = true_w[0] * x[:, 0] + true_w[1] * x[:,1] + true_b\n",
    "y+= .01 * nd.random_normal(shape = y.shape)"
   ]
  },
  {
   "cell_type": "code",
   "execution_count": 38,
   "metadata": {},
   "outputs": [
    {
     "name": "stdout",
     "output_type": "stream",
     "text": [
      "\n",
      "[[-1.2437133   0.6615249 ]\n",
      " [ 1.8107505  -0.72838444]\n",
      " [-0.8134178  -0.80169356]\n",
      " [ 0.4747581   0.903248  ]\n",
      " [ 0.9918955   0.99884963]\n",
      " [-2.067554    0.50120103]\n",
      " [ 0.6415878  -0.74298227]\n",
      " [ 1.2402921   0.565328  ]\n",
      " [ 0.00402608  0.0900996 ]\n",
      " [ 0.3694024   0.233415  ]]\n",
      "<NDArray 10x2 @cpu(0)> \n",
      "[-0.5545711 10.311845   5.3016424  2.0769641  2.796527  -1.6483647\n",
      "  8.005487   4.7436275  3.8972616  4.124818 ]\n",
      "<NDArray 10 @cpu(0)>\n"
     ]
    }
   ],
   "source": [
    "print(x[0:10], y[0:10])"
   ]
  },
  {
   "cell_type": "code",
   "execution_count": 39,
   "metadata": {},
   "outputs": [],
   "source": [
    "import random\n",
    "batch_size = 10\n",
    "def data_iter():\n",
    "    idx = list(range(num_examples))\n",
    "    random.shuffle(idx)\n",
    "    for i in range (0,num_examples, batch_size):\n",
    "        j = nd.array(idx[i:min(i+batch_size,num_examples)])\n",
    "        yield nd.take(x,j), nd.take(y,j)"
   ]
  },
  {
   "cell_type": "code",
   "execution_count": 40,
   "metadata": {},
   "outputs": [
    {
     "name": "stdout",
     "output_type": "stream",
     "text": [
      "100\n"
     ]
    }
   ],
   "source": [
    "n = 0\n",
    "for data, label in data_iter():\n",
    "    n =n+1\n",
    "print(n)\n"
   ]
  },
  {
   "cell_type": "code",
   "execution_count": 72,
   "metadata": {},
   "outputs": [
    {
     "name": "stdout",
     "output_type": "stream",
     "text": [
      "[\n",
      "[[ 0.41011783]\n",
      " [-0.6535874 ]]\n",
      "<NDArray 2x1 @cpu(0)>, \n",
      "[0.]\n",
      "<NDArray 1 @cpu(0)>]\n"
     ]
    }
   ],
   "source": [
    "w = nd.random_normal(shape =(num_inputs,1) )\n",
    "b = nd.zeros((1,))\n",
    "params = [w,b]\n",
    "print(params)"
   ]
  },
  {
   "cell_type": "code",
   "execution_count": 73,
   "metadata": {},
   "outputs": [],
   "source": [
    "for param in params:\n",
    "    param.attach_grad()"
   ]
  },
  {
   "cell_type": "code",
   "execution_count": 74,
   "metadata": {},
   "outputs": [],
   "source": [
    "def net(x):\n",
    "#     print(w,b)\n",
    "    return nd.dot(x, w)+b"
   ]
  },
  {
   "cell_type": "code",
   "execution_count": 60,
   "metadata": {},
   "outputs": [],
   "source": [
    "# net(data)"
   ]
  },
  {
   "cell_type": "markdown",
   "metadata": {},
   "source": [
    "损失函数"
   ]
  },
  {
   "cell_type": "code",
   "execution_count": 75,
   "metadata": {},
   "outputs": [],
   "source": [
    "def square_loss(yhat,y):\n",
    "    return (yhat-y.reshape(yhat.shape))**2"
   ]
  },
  {
   "cell_type": "code",
   "execution_count": 76,
   "metadata": {},
   "outputs": [],
   "source": [
    "def SGD(params, lr):\n",
    "    for param in params:\n",
    "        param[:] = param - lr*param.grad"
   ]
  },
  {
   "cell_type": "markdown",
   "metadata": {},
   "source": [
    "现在开始训练了,每次迭代batch size个数据,计算梯度并更新模型参数"
   ]
  },
  {
   "cell_type": "code",
   "execution_count": 77,
   "metadata": {},
   "outputs": [
    {
     "name": "stdout",
     "output_type": "stream",
     "text": [
      "Epoch 0, average loss: 22.416235\n",
      "Epoch 1, average loss: 15.168679\n",
      "Epoch 2, average loss: 10.266999\n",
      "Epoch 3, average loss: 6.949710\n",
      "Epoch 4, average loss: 4.704900\n",
      "Epoch 5, average loss: 3.185271\n",
      "Epoch 6, average loss: 2.156652\n",
      "Epoch 7, average loss: 1.460349\n",
      "Epoch 8, average loss: 0.988899\n",
      "Epoch 9, average loss: 0.669761\n",
      "Epoch 10, average loss: 0.453678\n",
      "Epoch 11, average loss: 0.307318\n",
      "Epoch 12, average loss: 0.208200\n",
      "Epoch 13, average loss: 0.141069\n",
      "Epoch 14, average loss: 0.095601\n",
      "Epoch 15, average loss: 0.064816\n",
      "Epoch 16, average loss: 0.043943\n",
      "Epoch 17, average loss: 0.029809\n",
      "Epoch 18, average loss: 0.020233\n",
      "Epoch 19, average loss: 0.013745\n",
      "Epoch 20, average loss: 0.009348\n",
      "Epoch 21, average loss: 0.006368\n",
      "Epoch 22, average loss: 0.004349\n",
      "Epoch 23, average loss: 0.002981\n",
      "Epoch 24, average loss: 0.002053\n",
      "Epoch 25, average loss: 0.001424\n",
      "Epoch 26, average loss: 0.000998\n",
      "Epoch 27, average loss: 0.000709\n",
      "Epoch 28, average loss: 0.000513\n",
      "Epoch 29, average loss: 0.000381\n"
     ]
    }
   ],
   "source": [
    "epochs = 30\n",
    "learning_rate = .0001\n",
    "for e in range(epochs):\n",
    "    total_loss = 0\n",
    "    for data, label in data_iter():\n",
    "        with autograd.record():\n",
    "            output = net(data)\n",
    "            loss = square_loss(output, label)\n",
    "        loss.backward()  #backward框架自带的函数,功能为求导\n",
    "        SGD(params, learning_rate)\n",
    "            \n",
    "        total_loss += nd.sum(loss).asscalar() #把ndarray变成python的float\n",
    "    print('Epoch %d, average loss: %f' %(e,total_loss/num_examples))"
   ]
  },
  {
   "cell_type": "code",
   "execution_count": 78,
   "metadata": {},
   "outputs": [
    {
     "name": "stdout",
     "output_type": "stream",
     "text": [
      "[2, -3.4] \n",
      "[[ 1.9937785]\n",
      " [-3.3926797]]\n",
      "<NDArray 2x1 @cpu(0)>\n",
      "4.2 \n",
      "[4.1884804]\n",
      "<NDArray 1 @cpu(0)>\n"
     ]
    }
   ],
   "source": [
    "print(true_w,w)\n",
    "print(true_b, b)"
   ]
  },
  {
   "cell_type": "code",
   "execution_count": null,
   "metadata": {},
   "outputs": [],
   "source": []
  },
  {
   "cell_type": "code",
   "execution_count": null,
   "metadata": {},
   "outputs": [],
   "source": []
  },
  {
   "cell_type": "code",
   "execution_count": null,
   "metadata": {},
   "outputs": [],
   "source": []
  },
  {
   "cell_type": "code",
   "execution_count": null,
   "metadata": {},
   "outputs": [],
   "source": []
  }
 ],
 "metadata": {
  "kernelspec": {
   "display_name": "Python 3",
   "language": "python",
   "name": "python3"
  },
  "language_info": {
   "codemirror_mode": {
    "name": "ipython",
    "version": 3
   },
   "file_extension": ".py",
   "mimetype": "text/x-python",
   "name": "python",
   "nbconvert_exporter": "python",
   "pygments_lexer": "ipython3",
   "version": "3.7.3"
  }
 },
 "nbformat": 4,
 "nbformat_minor": 2
}
