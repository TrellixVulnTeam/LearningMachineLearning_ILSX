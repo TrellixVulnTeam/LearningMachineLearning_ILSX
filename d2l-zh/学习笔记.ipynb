{
 "cells": [
  {
   "cell_type": "markdown",
   "metadata": {},
   "source": [
    "###作图\n",
    "set_figsize()\n",
    "plt.scatter(features[:, 1].asnumpy(), labels.asnumpy(), 1)  # 加分号只显示图\n",
    "\n",
    "我们将上面的plt作图函数以及use_svg_display函数和set_figsize函数定义在d2lzh包里。以后在作图时，我们将直接调用d2lzh.plt。由于plt在d2lzh包中是一个全局变量，我们在作图前只需要调用d2lzh.set_figsize()即可打印矢量图并设置图的尺寸。"
   ]
  },
  {
   "cell_type": "code",
   "execution_count": null,
   "metadata": {},
   "outputs": [],
   "source": [
    "导包\n",
    "import sys\n",
    "sys.path.append('../')"
   ]
  },
  {
   "cell_type": "markdown",
   "metadata": {},
   "source": [
    "查阅文档\n",
    "查阅的函数？？  #调出说明及代码\n",
    "查阅的函数？  #调出说明"
   ]
  },
  {
   "cell_type": "markdown",
   "metadata": {},
   "source": [
    "每次迭代之后及时保存数据\n",
    "python的pickle包\n",
    "或\n",
    "NDArray的save/load方法\n",
    "可以存list或者dict\n",
    "\n",
    "list 存取\n",
    "a=nd.ones(3)\n",
    "b = nd.ones(4)\n",
    "nd.save(filename,[a,b])\n",
    "list读取\n",
    "a,b = nd.load(filename)\n",
    "\n",
    "dict存取\n",
    "mydict = {'x':x, 'y':y}\n",
    "nd.save(filename,mydict)\n",
    "c = nd.load(filename)\n"
   ]
  },
  {
   "cell_type": "markdown",
   "metadata": {},
   "source": [
    "nn.Flatten()  将图片输入转化成矩阵"
   ]
  },
  {
   "cell_type": "code",
   "execution_count": null,
   "metadata": {},
   "outputs": [],
   "source": []
  },
  {
   "cell_type": "code",
   "execution_count": null,
   "metadata": {},
   "outputs": [],
   "source": []
  },
  {
   "cell_type": "code",
   "execution_count": null,
   "metadata": {},
   "outputs": [],
   "source": []
  },
  {
   "cell_type": "code",
   "execution_count": null,
   "metadata": {},
   "outputs": [],
   "source": []
  }
 ],
 "metadata": {
  "kernelspec": {
   "display_name": "Python 3",
   "language": "python",
   "name": "python3"
  },
  "language_info": {
   "codemirror_mode": {
    "name": "ipython",
    "version": 3
   },
   "file_extension": ".py",
   "mimetype": "text/x-python",
   "name": "python",
   "nbconvert_exporter": "python",
   "pygments_lexer": "ipython3",
   "version": "3.7.3"
  }
 },
 "nbformat": 4,
 "nbformat_minor": 2
}
